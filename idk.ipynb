{
 "cells": [
  {
   "cell_type": "code",
   "execution_count": 6,
   "outputs": [
    {
     "name": "stdout",
     "output_type": "stream",
     "text": [
      "{'gold': 550, 'pouch': ['flint', 'twine', 'gemstone'], 'backpack': ['bedroll', 'bread loaf', 'xylophone'], 'pocket': ['seashell', 'strange berry', 'lint']}\n"
     ]
    }
   ],
   "source": [
    "#Exercise 1\n",
    "inventory = {\n",
    " 'gold' : 500,\n",
    " 'pouch' : ['flint', 'twine', 'gemstone'],\n",
    " 'backpack' : ['xylophone','dagger', 'bedroll','bread loaf']\n",
    "}\n",
    "\n",
    "inventory.setdefault('pocket')\n",
    "\n",
    "inventory['pocket'] = ['seashell','strange berry','lint']\n",
    "\n",
    "inventory['backpack'].sort()\n",
    "\n",
    "inventory['backpack'].remove('dagger')\n",
    "\n",
    "inventory['gold'] += 50\n",
    "\n",
    "print(inventory)"
   ],
   "metadata": {
    "collapsed": false
   }
  },
  {
   "cell_type": "code",
   "execution_count": 7,
   "outputs": [
    {
     "name": "stdout",
     "output_type": "stream",
     "text": [
      "banana\n",
      "Price: 4\n",
      "Stock: 6\n",
      "apple\n",
      "Price: 2\n",
      "Stock: 0\n",
      "orange\n",
      "Price: 1.5\n",
      "Stock: 32\n",
      "pear\n",
      "Price: 3\n",
      "Stock: 15\n",
      "Total: 117.0\n"
     ]
    }
   ],
   "source": [
    "#Exercise 2\n",
    "price = {\n",
    "    'banana' : 4,\n",
    "    'apple' : 2,\n",
    "    'orange' : 1.5,\n",
    "    'pear' : 3,\n",
    "}\n",
    "stock = {\n",
    "    'banana' : 6,\n",
    "    'apple' : 0,\n",
    "    'orange' : 32,\n",
    "    'pear' : 15\n",
    "}\n",
    "y = 0\n",
    "for x in price:\n",
    "    print(x)\n",
    "    print('Price: %s' %price[x])\n",
    "    print('Stock: %s' %stock[x])\n",
    "\n",
    "    y += stock[x]*price[x]\n",
    "\n",
    "print(\"Total:\", y)"
   ],
   "metadata": {
    "collapsed": false
   }
  },
  {
   "cell_type": "code",
   "execution_count": 8,
   "outputs": [
    {
     "name": "stdout",
     "output_type": "stream",
     "text": [
      "Total price: 8.5\n"
     ]
    }
   ],
   "source": [
    "#Exercise 3\n",
    "groceries = ['banana','orange','apple','pear']\n",
    "stock = {\n",
    " \"banana\": 6,\n",
    " \"apple\": 0,\n",
    " \"orange\": 32,\n",
    " \"pear\": 15\n",
    "}\n",
    "prices = {\n",
    " \"banana\": 4,\n",
    " \"apple\": 2,\n",
    " \"orange\": 1.5,\n",
    " \"pear\": 3\n",
    "}\n",
    "\n",
    "def compute_bill(food):\n",
    "    total = 0\n",
    "    for x in food:\n",
    "        if stock[x] > 0:\n",
    "            total += prices[x]\n",
    "            stock[x] -= 1\n",
    "\n",
    "# return the total\n",
    "    return total\n",
    "\n",
    "print(\"Total price:\", compute_bill(groceries))"
   ],
   "metadata": {
    "collapsed": false
   }
  },
  {
   "cell_type": "code",
   "execution_count": 9,
   "outputs": [
    {
     "name": "stdout",
     "output_type": "stream",
     "text": [
      "Eren\n",
      "Homework: [90.0, 97.0, 75.0, 92.0]\n",
      "Quizzes: [88.0, 40.0, 94.0]\n",
      "Tests:: [75.0, 90.0]\n",
      "Mikasa\n",
      "Homework: [100.0, 92.0, 98.0, 100.0]\n",
      "Quizzes: [82.0, 83.0, 91.0]\n",
      "Tests:: [89.0, 97.0]\n",
      "Armin\n",
      "Homework: [0.0, 87.0, 75.0, 22.0]\n",
      "Quizzes: [0.0, 75.0, 78.0]\n",
      "Tests:: [100.0, 100.0]\n",
      "Class Average: 83.86666666666666\n",
      "Letter class Average: B\n"
     ]
    }
   ],
   "source": [
    "#Exercise 4\n",
    "eren = {\n",
    " \"name\": \"Eren\",\n",
    " \"homework\": [90.0,97.0,75.0,92.0],\n",
    " \"quizzes\": [88.0,40.0,94.0],\n",
    " \"tests\": [75.0,90.0]\n",
    "}\n",
    "mikasa = {\n",
    "\"name\": \"Mikasa\",\n",
    "\"homework\": [100.0, 92.0, 98.0, 100.0],\n",
    "\"quizzes\": [82.0, 83.0, 91.0],\n",
    "\"tests\": [89.0, 97.0]\n",
    "}\n",
    "armin = {\n",
    "\"name\": \"Armin\",\n",
    "\"homework\": [0.0, 87.0, 75.0, 22.0],\n",
    "\"quizzes\": [0.0, 75.0, 78.0],\n",
    "\"tests\": [100.0, 100.0]\n",
    "}\n",
    "students = [eren, mikasa, armin]\n",
    "\n",
    "for x in students:\n",
    "    print(x[\"name\"])\n",
    "    print(\"Homework:\",x[\"homework\"])\n",
    "    print(\"Quizzes:\",x[\"quizzes\"])\n",
    "    print(\"Tests::\",x[\"tests\"])\n",
    "\n",
    "def average(numbers):\n",
    "    total = float(sum(numbers))\n",
    "    return total / len(numbers)\n",
    "\n",
    "def get_average(student):\n",
    "    homework = average(student[\"homework\"])\n",
    "    quizzes = average(student[\"quizzes\"])\n",
    "    tests = average(student[\"tests\"])\n",
    "    homework *= 1/10\n",
    "    quizzes *= 3/10\n",
    "    tests *= 3/5\n",
    "    return homework + quizzes + tests\n",
    "\n",
    "def get_letter_grade(score):\n",
    "    if score >= 90:\n",
    "        return 'A'\n",
    "    elif score >= 80:\n",
    "        return 'B'\n",
    "    elif score >=70:\n",
    "        return 'C'\n",
    "    elif score >= 60:\n",
    "        return 'D'\n",
    "    else:\n",
    "        return 'F'\n",
    "\n",
    "def get_class_average(students):\n",
    "    results = []\n",
    "    for x in students:\n",
    "        results.append(get_average(x))\n",
    "    return average(results)\n",
    "\n",
    "print(\"Class Average:\",get_class_average(students))\n",
    "print(\"Letter class Average:\",get_letter_grade(get_class_average(students)))\n"
   ],
   "metadata": {
    "collapsed": false
   }
  },
  {
   "cell_type": "code",
   "execution_count": null,
   "outputs": [],
   "source": [],
   "metadata": {
    "collapsed": false
   }
  }
 ],
 "metadata": {
  "kernelspec": {
   "display_name": "Python 3",
   "language": "python",
   "name": "python3"
  },
  "language_info": {
   "codemirror_mode": {
    "name": "ipython",
    "version": 2
   },
   "file_extension": ".py",
   "mimetype": "text/x-python",
   "name": "python",
   "nbconvert_exporter": "python",
   "pygments_lexer": "ipython2",
   "version": "2.7.6"
  }
 },
 "nbformat": 4,
 "nbformat_minor": 0
}
